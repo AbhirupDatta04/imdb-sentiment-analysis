{
  "nbformat": 4,
  "nbformat_minor": 0,
  "metadata": {
    "colab": {
      "name": "IMDB.ipynb",
      "provenance": [],
      "collapsed_sections": []
    },
    "kernelspec": {
      "name": "python3",
      "display_name": "Python 3"
    },
    "language_info": {
      "name": "python"
    }
  },
  "cells": [
    {
      "cell_type": "markdown",
      "metadata": {
        "id": "m_1uJDoRGZT_"
      },
      "source": [
        "**Importing necessary libraries**"
      ]
    },
    {
      "cell_type": "code",
      "metadata": {
        "id": "mg8DLaTkFtZH"
      },
      "source": [
        "import numpy as np\n",
        "import tensorflow as tf\n",
        "import tensorflow_hub as hub\n",
        "import tensorflow_datasets as tfds\n",
        "import matplotlib.pyplot as plt \n",
        "%matplotlib inline"
      ],
      "execution_count": 1,
      "outputs": []
    },
    {
      "cell_type": "markdown",
      "metadata": {
        "id": "0bY9yw1TGihn"
      },
      "source": [
        "**Loading the datasets using tensorflow datasets**"
      ]
    },
    {
      "cell_type": "code",
      "metadata": {
        "id": "RPg8huizFyCp"
      },
      "source": [
        "train_data, validation_data, test_data = tfds.load(\n",
        "    name=\"imdb_reviews\", \n",
        "    split=('train[:60%]', 'train[60%:]', 'test'),\n",
        "    as_supervised=True)"
      ],
      "execution_count": 3,
      "outputs": []
    },
    {
      "cell_type": "markdown",
      "metadata": {
        "id": "C2CtWaRsZmLg"
      },
      "source": [
        "**Creation of hub layer which takes the first layer of our network**"
      ]
    },
    {
      "cell_type": "code",
      "metadata": {
        "id": "tpcLOx8SF9y8"
      },
      "source": [
        "embedding = \"https://tfhub.dev/google/tf2-preview/gnews-swivel-20dim/1\"\n",
        "hub_layer = hub.KerasLayer(embedding, input_shape=[], \n",
        "                           dtype=tf.string, trainable=True)"
      ],
      "execution_count": 4,
      "outputs": []
    },
    {
      "cell_type": "markdown",
      "metadata": {
        "id": "Bk_DhR5WZweP"
      },
      "source": [
        "**Creation of the neural network model**"
      ]
    },
    {
      "cell_type": "code",
      "metadata": {
        "id": "v1GV8pSQLMJH"
      },
      "source": [
        "model = tf.keras.Sequential()\n",
        "model.add(hub_layer)\n",
        "model.add(tf.keras.layers.Dense(16, activation='relu'))\n",
        "model.add(tf.keras.layers.Dense(1))"
      ],
      "execution_count": 5,
      "outputs": []
    },
    {
      "cell_type": "code",
      "metadata": {
        "colab": {
          "base_uri": "https://localhost:8080/"
        },
        "id": "DaVoDXpWV2Ru",
        "outputId": "a1a09f91-f0e3-4143-9fd0-e3a72a1801a9"
      },
      "source": [
        "model.summary()"
      ],
      "execution_count": 6,
      "outputs": [
        {
          "output_type": "stream",
          "text": [
            "Model: \"sequential\"\n",
            "_________________________________________________________________\n",
            "Layer (type)                 Output Shape              Param #   \n",
            "=================================================================\n",
            "keras_layer (KerasLayer)     (None, 20)                400020    \n",
            "_________________________________________________________________\n",
            "dense (Dense)                (None, 16)                336       \n",
            "_________________________________________________________________\n",
            "dense_1 (Dense)              (None, 1)                 17        \n",
            "=================================================================\n",
            "Total params: 400,373\n",
            "Trainable params: 400,373\n",
            "Non-trainable params: 0\n",
            "_________________________________________________________________\n"
          ],
          "name": "stdout"
        }
      ]
    },
    {
      "cell_type": "markdown",
      "metadata": {
        "id": "-DlsbE8caIBH"
      },
      "source": [
        "**Model compilation**"
      ]
    },
    {
      "cell_type": "code",
      "metadata": {
        "id": "eNhxCBVSV48w"
      },
      "source": [
        "model.compile(optimizer='adam',loss=tf.keras.losses.BinaryCrossentropy(from_logits=True),metrics=['accuracy'])"
      ],
      "execution_count": 7,
      "outputs": []
    },
    {
      "cell_type": "markdown",
      "metadata": {
        "id": "UyY_IzbaaN44"
      },
      "source": [
        "**Evaluation of test model**"
      ]
    },
    {
      "cell_type": "code",
      "metadata": {
        "colab": {
          "base_uri": "https://localhost:8080/"
        },
        "id": "vbOJjUaRWGgN",
        "outputId": "ec11fcb3-6d90-4d54-8f9f-ef8234523634"
      },
      "source": [
        "results = model.evaluate(test_data.batch(512), verbose=2)"
      ],
      "execution_count": 8,
      "outputs": [
        {
          "output_type": "stream",
          "text": [
            "49/49 - 3s - loss: 1.2295 - accuracy: 0.4988\n"
          ],
          "name": "stdout"
        }
      ]
    },
    {
      "cell_type": "code",
      "metadata": {
        "colab": {
          "base_uri": "https://localhost:8080/"
        },
        "id": "7Me0GCJaWLsM",
        "outputId": "fd7d89fe-c281-4823-c65f-3cf6aaa330a7"
      },
      "source": [
        "for name, value in zip(model.metrics_names, results):\n",
        "    print(\"%s: %.3f\" % (name, value))"
      ],
      "execution_count": 9,
      "outputs": [
        {
          "output_type": "stream",
          "text": [
            "loss: 1.229\n",
            "accuracy: 0.499\n"
          ],
          "name": "stdout"
        }
      ]
    },
    {
      "cell_type": "markdown",
      "metadata": {
        "id": "H70QY4tmaXN8"
      },
      "source": [
        "**Training of the dataset with 50 iterations**"
      ]
    },
    {
      "cell_type": "code",
      "metadata": {
        "colab": {
          "base_uri": "https://localhost:8080/"
        },
        "id": "CNzTqUETWRAQ",
        "outputId": "51a3cbb2-f6b9-4fc6-bbae-95f86b5889d9"
      },
      "source": [
        "\n",
        "history = model.fit(train_data.batch(512), epochs=50, verbose=1)"
      ],
      "execution_count": 11,
      "outputs": [
        {
          "output_type": "stream",
          "text": [
            "Epoch 1/50\n",
            "30/30 [==============================] - 2s 68ms/step - loss: 0.2945 - accuracy: 0.8753\n",
            "Epoch 2/50\n",
            "30/30 [==============================] - 2s 67ms/step - loss: 0.2754 - accuracy: 0.8851\n",
            "Epoch 3/50\n",
            "30/30 [==============================] - 2s 65ms/step - loss: 0.2587 - accuracy: 0.8936\n",
            "Epoch 4/50\n",
            "30/30 [==============================] - 2s 66ms/step - loss: 0.2435 - accuracy: 0.9007\n",
            "Epoch 5/50\n",
            "30/30 [==============================] - 2s 65ms/step - loss: 0.2293 - accuracy: 0.9081\n",
            "Epoch 6/50\n",
            "30/30 [==============================] - 2s 65ms/step - loss: 0.2163 - accuracy: 0.9149\n",
            "Epoch 7/50\n",
            "30/30 [==============================] - 2s 65ms/step - loss: 0.2041 - accuracy: 0.9208\n",
            "Epoch 8/50\n",
            "30/30 [==============================] - 2s 67ms/step - loss: 0.1927 - accuracy: 0.9257\n",
            "Epoch 9/50\n",
            "30/30 [==============================] - 2s 68ms/step - loss: 0.1820 - accuracy: 0.9316\n",
            "Epoch 10/50\n",
            "30/30 [==============================] - 2s 65ms/step - loss: 0.1719 - accuracy: 0.9363\n",
            "Epoch 11/50\n",
            "30/30 [==============================] - 2s 67ms/step - loss: 0.1624 - accuracy: 0.9415\n",
            "Epoch 12/50\n",
            "30/30 [==============================] - 2s 66ms/step - loss: 0.1533 - accuracy: 0.9447\n",
            "Epoch 13/50\n",
            "30/30 [==============================] - 2s 66ms/step - loss: 0.1448 - accuracy: 0.9484\n",
            "Epoch 14/50\n",
            "30/30 [==============================] - 2s 66ms/step - loss: 0.1367 - accuracy: 0.9516\n",
            "Epoch 15/50\n",
            "30/30 [==============================] - 2s 65ms/step - loss: 0.1291 - accuracy: 0.9557\n",
            "Epoch 16/50\n",
            "30/30 [==============================] - 2s 66ms/step - loss: 0.1218 - accuracy: 0.9587\n",
            "Epoch 17/50\n",
            "30/30 [==============================] - 2s 66ms/step - loss: 0.1148 - accuracy: 0.9625\n",
            "Epoch 18/50\n",
            "30/30 [==============================] - 2s 65ms/step - loss: 0.1083 - accuracy: 0.9654\n",
            "Epoch 19/50\n",
            "30/30 [==============================] - 2s 65ms/step - loss: 0.1020 - accuracy: 0.9686\n",
            "Epoch 20/50\n",
            "30/30 [==============================] - 2s 63ms/step - loss: 0.0961 - accuracy: 0.9723\n",
            "Epoch 21/50\n",
            "30/30 [==============================] - 2s 66ms/step - loss: 0.0904 - accuracy: 0.9745\n",
            "Epoch 22/50\n",
            "30/30 [==============================] - 2s 67ms/step - loss: 0.0850 - accuracy: 0.9765\n",
            "Epoch 23/50\n",
            "30/30 [==============================] - 2s 66ms/step - loss: 0.0799 - accuracy: 0.9787\n",
            "Epoch 24/50\n",
            "30/30 [==============================] - 2s 65ms/step - loss: 0.0750 - accuracy: 0.9805\n",
            "Epoch 25/50\n",
            "30/30 [==============================] - 2s 66ms/step - loss: 0.0703 - accuracy: 0.9819\n",
            "Epoch 26/50\n",
            "30/30 [==============================] - 2s 66ms/step - loss: 0.0659 - accuracy: 0.9830\n",
            "Epoch 27/50\n",
            "30/30 [==============================] - 2s 67ms/step - loss: 0.0617 - accuracy: 0.9848\n",
            "Epoch 28/50\n",
            "30/30 [==============================] - 2s 67ms/step - loss: 0.0578 - accuracy: 0.9863\n",
            "Epoch 29/50\n",
            "30/30 [==============================] - 2s 67ms/step - loss: 0.0541 - accuracy: 0.9882\n",
            "Epoch 30/50\n",
            "30/30 [==============================] - 2s 66ms/step - loss: 0.0506 - accuracy: 0.9891\n",
            "Epoch 31/50\n",
            "30/30 [==============================] - 2s 67ms/step - loss: 0.0473 - accuracy: 0.9903\n",
            "Epoch 32/50\n",
            "30/30 [==============================] - 2s 65ms/step - loss: 0.0442 - accuracy: 0.9911\n",
            "Epoch 33/50\n",
            "30/30 [==============================] - 2s 67ms/step - loss: 0.0412 - accuracy: 0.9921\n",
            "Epoch 34/50\n",
            "30/30 [==============================] - 2s 66ms/step - loss: 0.0385 - accuracy: 0.9932\n",
            "Epoch 35/50\n",
            "30/30 [==============================] - 2s 67ms/step - loss: 0.0358 - accuracy: 0.9939\n",
            "Epoch 36/50\n",
            "30/30 [==============================] - 2s 65ms/step - loss: 0.0334 - accuracy: 0.9947\n",
            "Epoch 37/50\n",
            "30/30 [==============================] - 2s 66ms/step - loss: 0.0311 - accuracy: 0.9954\n",
            "Epoch 38/50\n",
            "30/30 [==============================] - 2s 66ms/step - loss: 0.0289 - accuracy: 0.9957\n",
            "Epoch 39/50\n",
            "30/30 [==============================] - 2s 66ms/step - loss: 0.0269 - accuracy: 0.9965\n",
            "Epoch 40/50\n",
            "30/30 [==============================] - 2s 67ms/step - loss: 0.0251 - accuracy: 0.9969\n",
            "Epoch 41/50\n",
            "30/30 [==============================] - 2s 67ms/step - loss: 0.0234 - accuracy: 0.9975\n",
            "Epoch 42/50\n",
            "30/30 [==============================] - 2s 67ms/step - loss: 0.0218 - accuracy: 0.9980\n",
            "Epoch 43/50\n",
            "30/30 [==============================] - 2s 67ms/step - loss: 0.0203 - accuracy: 0.9982\n",
            "Epoch 44/50\n",
            "30/30 [==============================] - 2s 66ms/step - loss: 0.0189 - accuracy: 0.9985\n",
            "Epoch 45/50\n",
            "30/30 [==============================] - 2s 65ms/step - loss: 0.0176 - accuracy: 0.9988\n",
            "Epoch 46/50\n",
            "30/30 [==============================] - 2s 66ms/step - loss: 0.0163 - accuracy: 0.9992\n",
            "Epoch 47/50\n",
            "30/30 [==============================] - 2s 66ms/step - loss: 0.0152 - accuracy: 0.9993\n",
            "Epoch 48/50\n",
            "30/30 [==============================] - 2s 67ms/step - loss: 0.0141 - accuracy: 0.9994\n",
            "Epoch 49/50\n",
            "30/30 [==============================] - 2s 67ms/step - loss: 0.0131 - accuracy: 0.9995\n",
            "Epoch 50/50\n",
            "30/30 [==============================] - 2s 66ms/step - loss: 0.0122 - accuracy: 0.9997\n"
          ],
          "name": "stdout"
        }
      ]
    },
    {
      "cell_type": "markdown",
      "metadata": {
        "id": "CSJOxr-caglJ"
      },
      "source": [
        "**Accuracy curve wrt epochs**"
      ]
    },
    {
      "cell_type": "code",
      "metadata": {
        "colab": {
          "base_uri": "https://localhost:8080/",
          "height": 621
        },
        "id": "A2PRSIFNWZgs",
        "outputId": "53e967e1-83ff-4dab-890f-4482132e2027"
      },
      "source": [
        "\n",
        "plt.figure(figsize=(10, 10))\n",
        "plt.plot(history.history['accuracy'])\n",
        "plt.xlabel('Epochs')\n",
        "plt.ylabel('Accuracy')\n",
        "plt.title('Epochs Vs. Accuracy');"
      ],
      "execution_count": 12,
      "outputs": [
        {
          "output_type": "display_data",
          "data": {
            "image/png": "[encoded data removed]",
            "text/plain": [
              "<Figure size 720x720 with 1 Axes>"
            ]
          },
          "metadata": {
            "tags": [],
            "needs_background": "light"
          }
        }
      ]
    },
    {
      "cell_type": "markdown",
      "metadata": {
        "id": "M7JNkrbRaoP8"
      },
      "source": [
        "**Loss curve wrt epochs**"
      ]
    },
    {
      "cell_type": "code",
      "metadata": {
        "colab": {
          "base_uri": "https://localhost:8080/",
          "height": 621
        },
        "id": "19sIXd8cZMS0",
        "outputId": "6aab74ce-f2e0-4240-86eb-1c35202ff42d"
      },
      "source": [
        "\n",
        "plt.figure(figsize=(10, 10))\n",
        "plt.plot(history.history['loss'])\n",
        "plt.xlabel('Epochs')\n",
        "plt.ylabel('Loss')\n",
        "plt.title('Epochs Vs. Loss');"
      ],
      "execution_count": 14,
      "outputs": [
        {
          "output_type": "display_data",
          "data": {
            "image/png": "[encoded data removed]",
            "text/plain": [
              "<Figure size 720x720 with 1 Axes>"
            ]
          },
          "metadata": {
            "tags": [],
            "needs_background": "light"
          }
        }
      ]
    },
    {
      "cell_type": "code",
      "metadata": {
        "id": "M-DDBhF1ZbEK"
      },
      "source": [
        ""
      ],
      "execution_count": null,
      "outputs": []
    }
  ]
}